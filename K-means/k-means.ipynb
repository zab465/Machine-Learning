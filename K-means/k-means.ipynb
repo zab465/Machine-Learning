{
 "cells": [
  {
   "cell_type": "markdown",
   "metadata": {},
   "source": [
    "### Making a Simplified K-means Clustering Algorithm"
   ]
  },
  {
   "cell_type": "markdown",
   "metadata": {},
   "source": [
    "K-means clustering is a simple unsupervised machine-learning method for cluster analysis. The aim of the method is to partition a set of points into _k_ clusters, such that each point in the data is assigned to the nearest cluster. The algorithm iterates through two steps:\n",
    "\n",
    "1. Assign each data point to the cluster with the nearest centroid\n",
    "2. Update the centroids of the clusters given the new partition of the data across the clusters\n",
    "\n",
    "The algorithm converges (finishes running) when the assignments to clusters no longer change. Since the intial assignment to clusters is (mostly) random, there is no guarantee that the optimum assignment is found. So it is common to run the algorithm multiple times and use different starting conditions.\n",
    "\n",
    "Here, we will implement a **much** simplified version of the k-means clustering algorithm. Rather than running the algorithm until convergence, we will repeat the above two steps a large but fixed number of times. In addition, we will initialize only once, using a naive method according to which we randomly choose k points from the data to use as initial cluster centroids. \n",
    "\n",
    "In real life, there are plenty of libraries that allow you to implement this algorithm, and these account for much more complexity than we are going to here (such as the [scikit-learn](http://scikit-learn.org/stable/modules/generated/sklearn.cluster.KMeans.html)), but this should give an idea of the intuition behind this process. Understanding this can also be very helpful for understanding how cross-validation works in machine learning (related but different idea).\n",
    "\n",
    "For this example, we can use the `Wholesale customers data.csv`, which you can find in the repository. The file contains information on the annual spending on diverse product categories for the clients of a wholesale distributor. The data are obtained from the [UCI Machine Learning Repository](http://archive.ics.uci.edu/ml/index.php) and you can find more information about them [here](http://archive.ics.uci.edu/ml/datasets/Wholesale+customers#).\n"
   ]
  },
  {
   "cell_type": "markdown",
   "metadata": {},
   "source": [
    "### Step 1: Function to estimate Euclidean distance between two points\n",
    "\n",
    "To start off our algorithm, we're going to make a function that calculates the [Euclidean](https://en.wikipedia.org/wiki/Euclidean_distance) distance between two n-dimensional points. The function will take two lists as arguments, where each list is the n-coordinates of each of the two points. We can call this function `find_distance`. \n",
    "\n",
    "We'll test the function for the points [0, 3, 0] and [4, 0, 0]."
   ]
  },
  {
   "cell_type": "code",
   "execution_count": null,
   "metadata": {},
   "outputs": [],
   "source": [
    "# Enter your answer to Problem 1 below. \n",
    "# Formula for distance between points: sqrt((p1-q1)^2 +(p2-q2)^2)\n",
    "# initialize a sum with value of 0 in order to add onto it every time coordinates have been added\n",
    "# using formula to square the difference between point coordinates on dimension i \n",
    "# storing each result in \"summed\" and taking the square root\n",
    "import math\n",
    "def find_distance(x, y):\n",
    "    \"\"\"Function to get the distance between 2 points on N-dimensions, \n",
    "    where x and y are the n-dimensional coordinates of two points,\n",
    "    it returns the distance\"\"\"\n",
    "    summed = 0                 \n",
    "    for i in range(len(x)): \n",
    "       difference = (x[i] - y[i])**2 \n",
    "       summed += difference  \n",
    "    rooted = math.sqrt(summed) \n",
    "    return rooted\n",
    "\n",
    "#testing the function on two, three-dimensional points a and b  \n",
    "a = [0, 3, 0]\n",
    "b = [4, 0, 0]\n",
    "\n",
    "print(\"The distance between a and b is: \", str(find_distance(a, b)))"
   ]
  },
  {
   "cell_type": "markdown",
   "metadata": {},
   "source": [
    "### Step 2: Function to estimate the centroid of a collection of points\n",
    "\n",
    "Great, now we know how to find the distance between two points. This will help up when we want the algorithm to decide to which cluster it will assign the points, it will measure the distance with that function and choose accordingly! \n",
    "\n",
    "We now want to write a function called `find_centroid`, which you guessed it, will estimate the centroid for a given selection of n-dimensional points. it will take one list as argument (which contains all of the points entered as a list of n-coordinates). We want it to return a list with the coordinates of their \"center point\". More on why that makes sense later (the coordinate of the centroid in each dimension is the mean of coordinates of all the points in that dimension). \n",
    "\n",
    "We can test our function on `test_lst`: "
   ]
  },
  {
   "cell_type": "code",
   "execution_count": null,
   "metadata": {},
   "outputs": [],
   "source": [
    "test_lst = [[0,0,0], [0,0,1], [0,1,0], [1,0,0], \n",
    "            [0,1,1], [1,0,1], [1,1,0], [1,1,1]]"
   ]
  },
  {
   "cell_type": "markdown",
   "metadata": {},
   "source": [
    "Now let's write our function: "
   ]
  },
  {
   "cell_type": "code",
   "execution_count": null,
   "metadata": {},
   "outputs": [],
   "source": [
    "# Equation: sum(points)/n-points\n",
    "# define the total dimensions in given point\n",
    "# use list comprehension taking the mean accross points, accross dimensions\n",
    "\n",
    "def find_centroid(point):\n",
    "    \"\"\"Function that returns the centroid, \n",
    "    takes argument point, a list of points. \n",
    "    Returns a list of mean coordinate per dimension.\"\"\"\n",
    "\n",
    "    total_dimensions = len(point[0]) \n",
    "    return [sum(coord[i] for coord in point) / len(point) for i in range(total_dimensions)]\n",
    "    \n",
    "find_centroid(test_lst)"
   ]
  },
  {
   "cell_type": "markdown",
   "metadata": {},
   "source": [
    "### Step 3: Function to read data\n",
    "\n",
    "This doesn't need to be a function, but since we're making functions for everything, it's good practice to have standard, modular functions that you can re-use between projects! I like to keep mine in separate modules so that I can call them when I need to. \n",
    "\n",
    "We'll call this function `get_data` and we want it to return the data in a list (can you see the list pattern here?) We'll be using the [csv module](https://docs.python.org/3/library/csv.html) for this. \n",
    "\n",
    "Note: we want the list to be for each customer's annual spending on a variety of products, that means we have to get rid of some headings. "
   ]
  },
  {
   "cell_type": "code",
   "execution_count": null,
   "metadata": {},
   "outputs": [],
   "source": [
    "import csv\n",
    "# Skipping header, removing columns 1&2 \n",
    "# Storing data as integers\n",
    "def get_data():\n",
    "    \"\"\"Function returns the data set, skipping its header and the first two columns.\n",
    "    It takes no argument. \n",
    "    The elements in the data are store as integers.\"\"\"\n",
    "    \n",
    "    with open('../data/Wholesale customers data.csv', \"r\") as wholesale:\n",
    "        wholesale = csv.reader(wholesale)\n",
    "        next(wholesale, None) \n",
    "        data = [[int(i) for i in line[2:]] for line in wholesale] \n",
    "    return data\n",
    "\n",
    "# assigning a variable to the function to then visualize the output\n",
    "data = get_data()\n",
    "\n",
    "#printing the first two elements of the data \n",
    "print(data[:2])"
   ]
  },
  {
   "cell_type": "markdown",
   "metadata": {},
   "source": [
    "### Step 4: Function to implement k-means algorithm\n",
    "\n",
    "We'll write our final function `kmeans` that clusters a collection of points into k clusters using a simplified version of the k-means algorithm. The function will take two arguments: \n",
    "\n",
    "1. `points` – a list of n-dimensional points, and\n",
    "2. `k` – an integer that defines the number of desired clusters. \n",
    "\n",
    "The function will return two things: \n",
    "\n",
    "1. A clustering – a list of `k` clusters, each of which is a list of points (each of which is a list of coordinates)\n",
    "2. A list of the centroids for each of the `k` clusters. Each centroid is essentially a point, so it should be presented as a list of coordinates.\n",
    "\n",
    "We'll test the function on 3 clusters so that it doesn't take too long to run. "
   ]
  },
  {
   "cell_type": "code",
   "execution_count": null,
   "metadata": {},
   "outputs": [],
   "source": [
    "import random\n",
    "\n",
    "def kmeans(points, k): \n",
    "    \"\"\"This function returns clusters and centroids for the input data as lists. \n",
    "    It takes the data and the number of desired clusters as arguments.\n",
    "    It calls the function cluster_points.\"\"\"\n",
    "    \n",
    "    # Select k random points to use as initial centroids\n",
    "    init = random.sample(points, k)\n",
    "\n",
    "    # Create a list of k lists to contain the points assigned to each cluster.  \n",
    "    clusters = [[] for i in init]\n",
    "     \n",
    "    # Create a list to keep the centroids of the k clusters. \n",
    "    # For now, this list will contain the points from init.\n",
    "\n",
    "    centroids = [i for i in init]\n",
    "    \n",
    "    # You now need to assign each point to the cluster \n",
    "    # with the closest centroid. Use the find_distance function \n",
    "    # you wrote in Problem 1 for this.\n",
    "    \n",
    "    # Function that will create temporary storage of clusters(list of empty lists) according to smallest distance\n",
    "    # It will iterate each point in the list\n",
    "    # Infinity = starting point for distance (gets updated as we find the minimum distance)\n",
    "    # index = 0 starting point to record position of the minimum distance\n",
    "    # This is more memory efficient than storing all the distances, and finding their minimum \n",
    "\n",
    "\n",
    "    def cluster_points(centr):\n",
    "        \"\"\"This function returns 'temporary' clusters for the data in a list. \n",
    "        It takes for input list of points in kmeans function.\n",
    "        Clusters are stored as lists.\"\"\"\n",
    "\n",
    "        clusters_temp = [[] for i in init]\n",
    "        for point in points: \n",
    "            min_dist = math.inf\n",
    "            indx = 0\n",
    "            for i in range(len(centr)):\n",
    "                dist = find_distance(centr[i], point)    \n",
    "                if dist < min_dist:\n",
    "                    min_dist = dist\n",
    "                    indx = i\n",
    "            clusters_temp[indx].append(point) \n",
    "        return clusters_temp\n",
    "        \n",
    "    # You should then update the variable \"clusters\" to be \n",
    "    # the new clustering and update the variable \"centroids\" \n",
    "    # to contain the centroids of the clusters in this new clustering.\n",
    "    # Use the function you wrote in Problem 2 to estimate the centroids.\n",
    "\n",
    "    # Repeat the process described above for 100 iterations. \n",
    "    # The idea is that each new repetition refines the clustering \n",
    "    # because it starts from the centroids of the previous clustering. \n",
    "    # If we repeat the process long enough, the assignment to \n",
    "    # clusters and the centroids will become stable.\n",
    "\n",
    "  \n",
    "    # calling cluster_points function 100 times to make the final clusters \n",
    "    # calling the find_centroid function \n",
    "    # this will \"update\" the variable clusters, using the temporary clusters stored above\n",
    "    # this will get the centroids of the new clusters \n",
    "\n",
    "    for i in range(100):\n",
    "        clusters = cluster_points(centroids) \n",
    "        centroids = [find_centroid(cluster) for cluster in clusters] \n",
    "    \n",
    "    return clusters, centroids\n",
    "\n",
    "clusters, centroids = kmeans(data, 3)\n",
    "\n",
    "# printing the output per cluster for number customers and centroid of cluster\n",
    "# I use \"i+1\" here to number the clusters starting at 1\n",
    "\n",
    "for i in range(len(clusters)):\n",
    "    print(\"There are \", str(len(clusters[i])), \" customers in cluster\", i+1, \".\") \n",
    "    print(\"Its centroid coordinates are: \", centroids[i], \".\")\n"
   ]
  },
  {
   "cell_type": "markdown",
   "metadata": {},
   "source": [
    "And that's it! We made our simplified k-means clustering algorithm! "
   ]
  }
 ],
 "metadata": {
  "kernelspec": {
   "display_name": "base",
   "language": "python",
   "name": "python3"
  },
  "language_info": {
   "name": "python",
   "version": "3.11.5"
  }
 },
 "nbformat": 4,
 "nbformat_minor": 2
}
